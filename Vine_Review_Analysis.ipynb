{
  "nbformat": 4,
  "nbformat_minor": 0,
  "metadata": {
    "colab": {
      "name": "Vine_Review_Analysis.ipynb",
      "provenance": [],
      "collapsed_sections": []
    },
    "kernelspec": {
      "name": "python3",
      "display_name": "Python 3"
    },
    "nteract": {
      "version": "0.12.3"
    },
    "language_info": {
      "name": "python"
    }
  },
  "cells": [
    {
      "cell_type": "code",
      "metadata": {
        "id": "V58rxea0HqSa",
        "colab": {
          "base_uri": "https://localhost:8080/"
        },
        "outputId": "e6060cae-ecd9-4af5-b78a-9d3d9c6aaf10"
      },
      "source": [
        "import os\n",
        "# Find the latest version of spark 3.0  from http://www-us.apache.org/dist/spark/ and enter as the spark version\n",
        "# For example:\n",
        "# spark_version = 'spark-3.0.2'\n",
        "spark_version = 'spark-3.2.1'\n",
        "os.environ['SPARK_VERSION']=spark_version\n",
        "# Install Spark and Java\n",
        "!apt-get update\n",
        "!apt-get install openjdk-11-jdk-headless -qq > /dev/null\n",
        "# !wget -q http://www-us.apache.org/dist/spark/$SPARK_VERSION/$SPARK_VERSION-bin-hadoop3.2.tgz\n",
        "!wget -q https://downloads.apache.org/spark/$SPARK_VERSION/$SPARK_VERSION-bin-hadoop3.2.tgz\n",
        "!tar xf $SPARK_VERSION-bin-hadoop3.2.tgz\n",
        "!pip install -q findspark\n",
        "# Set Environment Variables\n",
        "os.environ[\"JAVA_HOME\"] = \"/usr/lib/jvm/java-11-openjdk-amd64\"\n",
        "os.environ[\"SPARK_HOME\"] = f\"/content/{spark_version}-bin-hadoop3.2\"\n",
        "# Start a SparkSession\n",
        "import findspark\n",
        "findspark.init()"
      ],
      "execution_count": 1,
      "outputs": [
        {
          "output_type": "stream",
          "name": "stdout",
          "text": [
            "\r0% [Working]\r            \rGet:1 http://security.ubuntu.com/ubuntu bionic-security InRelease [88.7 kB]\n",
            "\r0% [Connecting to archive.ubuntu.com (91.189.88.152)] [1 InRelease 14.2 kB/88.7\r0% [Waiting for headers] [Waiting for headers] [Waiting for headers] [Waiting f\r                                                                               \rHit:2 https://cloud.r-project.org/bin/linux/ubuntu bionic-cran40/ InRelease\n",
            "\r                                                                               \rIgn:3 https://developer.download.nvidia.com/compute/cuda/repos/ubuntu1804/x86_64  InRelease\n",
            "\r                                                                               \r0% [Waiting for headers] [Waiting for headers] [Waiting for headers]\r0% [1 InRelease gpgv 88.7 kB] [Waiting for headers] [Waiting for headers] [Wait\r                                                                               \rHit:4 http://ppa.launchpad.net/c2d4u.team/c2d4u4.0+/ubuntu bionic InRelease\n",
            "\r0% [1 InRelease gpgv 88.7 kB] [Waiting for headers] [Connecting to ppa.launchpa\r                                                                               \rHit:5 http://archive.ubuntu.com/ubuntu bionic InRelease\n",
            "\r0% [1 InRelease gpgv 88.7 kB] [Connecting to ppa.launchpad.net (91.189.95.85)] \r                                                                               \rIgn:6 https://developer.download.nvidia.com/compute/machine-learning/repos/ubuntu1804/x86_64  InRelease\n",
            "\r0% [1 InRelease gpgv 88.7 kB] [Waiting for headers] [Connecting to ppa.launchpa\r                                                                               \rHit:7 https://developer.download.nvidia.com/compute/cuda/repos/ubuntu1804/x86_64  Release\n",
            "Hit:8 https://developer.download.nvidia.com/compute/machine-learning/repos/ubuntu1804/x86_64  Release\n",
            "Get:9 http://archive.ubuntu.com/ubuntu bionic-updates InRelease [88.7 kB]\n",
            "Hit:10 http://ppa.launchpad.net/cran/libgit2/ubuntu bionic InRelease\n",
            "Hit:11 http://ppa.launchpad.net/deadsnakes/ppa/ubuntu bionic InRelease\n",
            "Get:12 http://archive.ubuntu.com/ubuntu bionic-backports InRelease [74.6 kB]\n",
            "Hit:13 http://ppa.launchpad.net/graphics-drivers/ppa/ubuntu bionic InRelease\n",
            "Fetched 252 kB in 5s (49.6 kB/s)\n",
            "Reading package lists... Done\n"
          ]
        }
      ]
    },
    {
      "cell_type": "code",
      "metadata": {
        "id": "_xKwTpATHqSe",
        "colab": {
          "base_uri": "https://localhost:8080/"
        },
        "outputId": "02736df0-98b7-442b-fb9c-51485e1ea7a1"
      },
      "source": [
        "# Download the Postgres driver that will allow Spark to interact with Postgres.\n",
        "!wget https://jdbc.postgresql.org/download/postgresql-42.2.16.jar"
      ],
      "execution_count": 2,
      "outputs": [
        {
          "output_type": "stream",
          "name": "stdout",
          "text": [
            "--2022-02-26 20:50:35--  https://jdbc.postgresql.org/download/postgresql-42.2.16.jar\n",
            "Resolving jdbc.postgresql.org (jdbc.postgresql.org)... 72.32.157.228, 2001:4800:3e1:1::228\n",
            "Connecting to jdbc.postgresql.org (jdbc.postgresql.org)|72.32.157.228|:443... connected.\n",
            "HTTP request sent, awaiting response... 200 OK\n",
            "Length: 1002883 (979K) [application/java-archive]\n",
            "Saving to: ‘postgresql-42.2.16.jar.2’\n",
            "\n",
            "postgresql-42.2.16. 100%[===================>] 979.38K  5.40MB/s    in 0.2s    \n",
            "\n",
            "2022-02-26 20:50:36 (5.40 MB/s) - ‘postgresql-42.2.16.jar.2’ saved [1002883/1002883]\n",
            "\n"
          ]
        }
      ]
    },
    {
      "cell_type": "code",
      "metadata": {
        "id": "MMqDAjVS0KN9"
      },
      "source": [
        "from pyspark.sql import SparkSession\n",
        "spark = SparkSession.builder.appName(\"Vine_Analysis\").config(\"spark.driver.extraClassPath\",\"/content/postgresql-42.2.16.jar\").getOrCreate()"
      ],
      "execution_count": 3,
      "outputs": []
    },
    {
      "cell_type": "markdown",
      "metadata": {
        "id": "cyBsySGuY-9V"
      },
      "source": [
        "### Load Amazon Data into Spark DataFrame"
      ]
    },
    {
      "cell_type": "code",
      "metadata": {
        "id": "CtCmBhQJY-9Z",
        "colab": {
          "base_uri": "https://localhost:8080/"
        },
        "outputId": "82fc8d3f-9c60-4b14-bccf-e7fada40a72a"
      },
      "source": [
        "from pyspark import SparkFiles\n",
        "url = \"https://s3.amazonaws.com/amazon-reviews-pds/tsv/amazon_reviews_us_Home_Improvement_v1_00.tsv.gz\"\n",
        "spark.sparkContext.addFile(url)\n",
        "home_improve_df = spark.read.option(\"encoding\", \"UTF-8\").csv(SparkFiles.get(\"amazon_reviews_us_Home_Improvement_v1_00.tsv.gz\"), sep=\"\\t\", header=True, inferSchema=True)\n",
        "home_improve_df.count()"
      ],
      "execution_count": 4,
      "outputs": [
        {
          "output_type": "execute_result",
          "data": {
            "text/plain": [
              "2634781"
            ]
          },
          "metadata": {},
          "execution_count": 4
        }
      ]
    },
    {
      "cell_type": "markdown",
      "metadata": {
        "id": "2yUSe55VY-9t"
      },
      "source": [
        "### Filter the data"
      ]
    },
    {
      "cell_type": "code",
      "source": [
        "# Deliverable 2 Step 1 filter df to retrieve all rows where total_votes >=20\n",
        "\n",
        "filter_home_improve_df = home_improve_df.filter(home_improve_df.total_votes >=20).select(['review_id','star_rating','helpful_votes','total_votes','vine','verified_purchase'])\n",
        "\n",
        "filter_home_improve_df.show(5)\n"
      ],
      "metadata": {
        "id": "QDJ8ZIjPCCip",
        "colab": {
          "base_uri": "https://localhost:8080/"
        },
        "outputId": "7ecf236a-d589-49b0-c6e9-ae27b1d11d68"
      },
      "execution_count": 5,
      "outputs": [
        {
          "output_type": "stream",
          "name": "stdout",
          "text": [
            "+--------------+-----------+-------------+-----------+----+-----------------+\n",
            "|     review_id|star_rating|helpful_votes|total_votes|vine|verified_purchase|\n",
            "+--------------+-----------+-------------+-----------+----+-----------------+\n",
            "|R2VIQ3UX794Q0O|          4|           21|         21|   N|                Y|\n",
            "|R1OA24IIHWF54G|          5|           43|         45|   N|                Y|\n",
            "| RJ7N3OOJR9RL0|          4|           63|         71|   N|                Y|\n",
            "|R1W8778CBXSRU6|          5|           28|         29|   N|                Y|\n",
            "|R2EFAM03SWLIJX|          1|           32|         35|   N|                Y|\n",
            "+--------------+-----------+-------------+-----------+----+-----------------+\n",
            "only showing top 5 rows\n",
            "\n"
          ]
        }
      ]
    },
    {
      "cell_type": "code",
      "metadata": {
        "id": "B0TESUDRY-90",
        "colab": {
          "base_uri": "https://localhost:8080/"
        },
        "outputId": "7168a023-7a08-4832-cb55-8be09fd72f6b"
      },
      "source": [
        "# Deliverable 2 Step  2 Filter filter_home_improve_df to show only helpful_votes/total_votes >= 50%\n",
        "hi_helpful_df = filter_home_improve_df.filter((filter_home_improve_df.helpful_votes / filter_home_improve_df.total_votes) >= 0.5)\n",
        "hi_helpful_df.show(5)"
      ],
      "execution_count": 6,
      "outputs": [
        {
          "output_type": "stream",
          "name": "stdout",
          "text": [
            "+--------------+-----------+-------------+-----------+----+-----------------+\n",
            "|     review_id|star_rating|helpful_votes|total_votes|vine|verified_purchase|\n",
            "+--------------+-----------+-------------+-----------+----+-----------------+\n",
            "|R2VIQ3UX794Q0O|          4|           21|         21|   N|                Y|\n",
            "|R1OA24IIHWF54G|          5|           43|         45|   N|                Y|\n",
            "| RJ7N3OOJR9RL0|          4|           63|         71|   N|                Y|\n",
            "|R1W8778CBXSRU6|          5|           28|         29|   N|                Y|\n",
            "|R2EFAM03SWLIJX|          1|           32|         35|   N|                Y|\n",
            "+--------------+-----------+-------------+-----------+----+-----------------+\n",
            "only showing top 5 rows\n",
            "\n"
          ]
        }
      ]
    },
    {
      "cell_type": "code",
      "metadata": {
        "id": "4FwXA6UvY-96",
        "colab": {
          "base_uri": "https://localhost:8080/"
        },
        "outputId": "61b11682-42ca-4f69-aee1-a469e43b1df9"
      },
      "source": [
        "# Deliverable 2 Step 3 Filter the datafram in previous to create a new df that retrieves all the rows where a review was written as part of the vine program. \n",
        "\n",
        "paid_df = hi_helpful_df.filter(hi_helpful_df.vine == 'Y')\n",
        "paid_df.show(5)"
      ],
      "execution_count": 7,
      "outputs": [
        {
          "output_type": "stream",
          "name": "stdout",
          "text": [
            "+--------------+-----------+-------------+-----------+----+-----------------+\n",
            "|     review_id|star_rating|helpful_votes|total_votes|vine|verified_purchase|\n",
            "+--------------+-----------+-------------+-----------+----+-----------------+\n",
            "|R29V4UDSS053D8|          3|           33|         38|   Y|                N|\n",
            "|R1I2D068WC37PA|          3|           32|         37|   Y|                N|\n",
            "|R13W2U74F67QED|          5|           62|         76|   Y|                N|\n",
            "|R2QI37XFOBKUGD|          4|           24|         33|   Y|                N|\n",
            "|R19F60BB2DNCKN|          5|          170|        174|   Y|                N|\n",
            "+--------------+-----------+-------------+-----------+----+-----------------+\n",
            "only showing top 5 rows\n",
            "\n"
          ]
        }
      ]
    },
    {
      "cell_type": "code",
      "metadata": {
        "id": "MkqyCuNQY-9-",
        "colab": {
          "base_uri": "https://localhost:8080/"
        },
        "outputId": "5111148a-bccc-4e0b-9774-ee81664e503f"
      },
      "source": [
        "# Deliverable 2 Step 4 Filter the datafram in previous to create a new df that retrieves all the rows where a review was written as NOT part of the vine program. \n",
        "\n",
        "no_paid_df = hi_helpful_df.filter(hi_helpful_df.vine == 'N')\n",
        "no_paid_df.show(5)"
      ],
      "execution_count": 8,
      "outputs": [
        {
          "output_type": "stream",
          "name": "stdout",
          "text": [
            "+--------------+-----------+-------------+-----------+----+-----------------+\n",
            "|     review_id|star_rating|helpful_votes|total_votes|vine|verified_purchase|\n",
            "+--------------+-----------+-------------+-----------+----+-----------------+\n",
            "|R2VIQ3UX794Q0O|          4|           21|         21|   N|                Y|\n",
            "|R1OA24IIHWF54G|          5|           43|         45|   N|                Y|\n",
            "| RJ7N3OOJR9RL0|          4|           63|         71|   N|                Y|\n",
            "|R1W8778CBXSRU6|          5|           28|         29|   N|                Y|\n",
            "|R2EFAM03SWLIJX|          1|           32|         35|   N|                Y|\n",
            "+--------------+-----------+-------------+-----------+----+-----------------+\n",
            "only showing top 5 rows\n",
            "\n"
          ]
        }
      ]
    },
    {
      "cell_type": "code",
      "source": [
        "# Deliverable 2 Step 5 - total number of reviews\n",
        "\n",
        "total_reviews = paid_df.count() + no_paid_df.count()\n",
        "total_reviews"
      ],
      "metadata": {
        "colab": {
          "base_uri": "https://localhost:8080/"
        },
        "id": "lUgb90dewmtY",
        "outputId": "3720c958-6519-4af7-fb52-77b4788fb1de"
      },
      "execution_count": 9,
      "outputs": [
        {
          "output_type": "execute_result",
          "data": {
            "text/plain": [
              "39095"
            ]
          },
          "metadata": {},
          "execution_count": 9
        }
      ]
    },
    {
      "cell_type": "code",
      "source": [
        "# total 5-star paid\n",
        "\n",
        "pd_5star = paid_df.filter(paid_df.star_rating ==5).count()\n",
        "pd_5star"
      ],
      "metadata": {
        "colab": {
          "base_uri": "https://localhost:8080/"
        },
        "id": "UKcyIs_421mi",
        "outputId": "d50b6012-104d-4a3c-cc96-4aa6963329da"
      },
      "execution_count": 10,
      "outputs": [
        {
          "output_type": "execute_result",
          "data": {
            "text/plain": [
              "125"
            ]
          },
          "metadata": {},
          "execution_count": 10
        }
      ]
    },
    {
      "cell_type": "code",
      "source": [
        "# total 5-star no paid\n",
        "\n",
        "np_5star = no_paid_df.filter(no_paid_df.star_rating ==5).count()\n",
        "np_5star"
      ],
      "metadata": {
        "colab": {
          "base_uri": "https://localhost:8080/"
        },
        "id": "93BG166Y0Hgz",
        "outputId": "ee31d0a3-8e20-4032-bd5a-38d1f9e636b2"
      },
      "execution_count": 19,
      "outputs": [
        {
          "output_type": "execute_result",
          "data": {
            "text/plain": [
              "18246"
            ]
          },
          "metadata": {},
          "execution_count": 19
        }
      ]
    },
    {
      "cell_type": "code",
      "source": [
        "# Deliverable 2 Step 5 - total number of 5-star reviews\n",
        "\n",
        "total_5star_reviews = pd_5star + np_5star\n",
        "total_5star_reviews"
      ],
      "metadata": {
        "colab": {
          "base_uri": "https://localhost:8080/"
        },
        "id": "AF2D9A9txK1Y",
        "outputId": "028588b6-372e-4f94-ca79-3c03d248cfb6"
      },
      "execution_count": 20,
      "outputs": [
        {
          "output_type": "execute_result",
          "data": {
            "text/plain": [
              "18371"
            ]
          },
          "metadata": {},
          "execution_count": 20
        }
      ]
    },
    {
      "cell_type": "code",
      "source": [
        "# total paid reviews\n",
        "\n",
        "total_paid = paid_df.count()\n",
        "\n",
        "total_paid"
      ],
      "metadata": {
        "colab": {
          "base_uri": "https://localhost:8080/"
        },
        "id": "M6TcR_j9972f",
        "outputId": "ad6cee5f-c84b-4a6d-f9e5-c288b0118b01"
      },
      "execution_count": 21,
      "outputs": [
        {
          "output_type": "execute_result",
          "data": {
            "text/plain": [
              "266"
            ]
          },
          "metadata": {},
          "execution_count": 21
        }
      ]
    },
    {
      "cell_type": "code",
      "source": [
        "# total no paid reviews\n",
        "\n",
        "total_no_paid = no_paid_df.count()\n",
        "\n",
        "total_no_paid"
      ],
      "metadata": {
        "colab": {
          "base_uri": "https://localhost:8080/"
        },
        "id": "9KiztsS298P0",
        "outputId": "e98704de-168d-401f-e1e9-96bd008ca8a0"
      },
      "execution_count": 22,
      "outputs": [
        {
          "output_type": "execute_result",
          "data": {
            "text/plain": [
              "38829"
            ]
          },
          "metadata": {},
          "execution_count": 22
        }
      ]
    },
    {
      "cell_type": "code",
      "metadata": {
        "id": "XdQknSHLY--e",
        "colab": {
          "base_uri": "https://localhost:8080/"
        },
        "outputId": "f8969017-3a89-4ee1-e463-bb91f95ed18b"
      },
      "source": [
        "# Deliverable 2 Step 5 - percent 5 star reviews paid\n",
        "paid_5star_perc = pd_5star / total_paid * 100\n",
        "paid_5star_perc"
      ],
      "execution_count": 23,
      "outputs": [
        {
          "output_type": "execute_result",
          "data": {
            "text/plain": [
              "46.99248120300752"
            ]
          },
          "metadata": {},
          "execution_count": 23
        }
      ]
    },
    {
      "cell_type": "code",
      "source": [
        "# Deliverable 2 Step 5 - percent 5 star reviews no paid\n",
        "no_paid_5star_perc = np_5star / total_no_paid * 100\n",
        "no_paid_5star_perc"
      ],
      "metadata": {
        "colab": {
          "base_uri": "https://localhost:8080/"
        },
        "id": "RYzYgHO_zygS",
        "outputId": "201fe25b-17f7-41f5-e87d-75b153a8ff27"
      },
      "execution_count": 25,
      "outputs": [
        {
          "output_type": "execute_result",
          "data": {
            "text/plain": [
              "46.99065131731438"
            ]
          },
          "metadata": {},
          "execution_count": 25
        }
      ]
    },
    {
      "cell_type": "code",
      "source": [
        ""
      ],
      "metadata": {
        "id": "gzRJUjJfy5f0"
      },
      "execution_count": 16,
      "outputs": []
    }
  ]
}